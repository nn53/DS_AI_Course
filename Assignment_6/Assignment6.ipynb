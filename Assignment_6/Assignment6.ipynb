{
 "cells": [
  {
   "cell_type": "code",
   "execution_count": null,
   "id": "2a6c1b36",
   "metadata": {},
   "outputs": [
    {
     "name": "stdout",
     "output_type": "stream",
     "text": [
      "       Time        V1        V2        V3        V4        V5        V6  \\\n",
      "0  127294.0 -2.537331  1.890864 -0.840555 -1.102759 -2.105725  0.367811   \n",
      "1  117632.0 -0.250839  1.104108  0.206089  0.417324  1.204079 -0.350694   \n",
      "2  148330.0  0.568980 -2.520416 -1.114138  1.670652 -1.128945  0.398822   \n",
      "3   67778.0  1.328892  0.226908 -0.308968  0.381772  0.238490 -0.282946   \n",
      "4    6308.0  1.124863 -0.165691  1.337053  1.030033 -0.891116  0.202926   \n",
      "\n",
      "         V7        V8        V9  ...       V21       V22       V23       V24  \\\n",
      "0 -2.737844 -3.543314 -0.483147  ...  4.328165 -2.167329  1.022567 -0.241143   \n",
      "1  1.369769 -0.133535 -0.957100  ...  0.133048  0.499501 -0.392572 -0.393364   \n",
      "2  0.190403  0.161493  0.840595  ...  0.318037 -0.760732 -0.181332  0.595866   \n",
      "3  0.029460 -0.079962  0.227173  ... -0.379270 -1.148959 -0.047403 -1.074464   \n",
      "4 -0.825094  0.163280  2.301808  ... -0.216512 -0.195607  0.072785  0.045625   \n",
      "\n",
      "        V25       V26       V27       V28    Amount  Class  \n",
      "0 -1.094885 -0.475427 -0.177157 -0.082691  3.648057      0  \n",
      "1  0.233354 -0.490717  0.143897  0.136810  2.329227      0  \n",
      "2 -0.760920 -1.048927 -0.096970  0.088686  6.552508      0  \n",
      "3  0.375683  0.182045 -0.031732  0.017501  2.771964      0  \n",
      "4  0.135192  0.308617  0.001142  0.017673  2.904165      0  \n",
      "\n",
      "[5 rows x 31 columns]\n",
      "<class 'pandas.core.frame.DataFrame'>\n",
      "RangeIndex: 85309 entries, 0 to 85308\n",
      "Data columns (total 31 columns):\n",
      " #   Column  Non-Null Count  Dtype  \n",
      "---  ------  --------------  -----  \n",
      " 0   Time    85309 non-null  float64\n",
      " 1   V1      85309 non-null  float64\n",
      " 2   V2      85309 non-null  float64\n",
      " 3   V3      85309 non-null  float64\n",
      " 4   V4      85309 non-null  float64\n",
      " 5   V5      85309 non-null  float64\n",
      " 6   V6      85309 non-null  float64\n",
      " 7   V7      85309 non-null  float64\n",
      " 8   V8      85309 non-null  float64\n",
      " 9   V9      85309 non-null  float64\n",
      " 10  V10     85309 non-null  float64\n",
      " 11  V11     85309 non-null  float64\n",
      " 12  V12     85309 non-null  float64\n",
      " 13  V13     85309 non-null  float64\n",
      " 14  V14     85309 non-null  float64\n",
      " 15  V15     85309 non-null  float64\n",
      " 16  V16     85309 non-null  float64\n",
      " 17  V17     85309 non-null  float64\n",
      " 18  V18     85309 non-null  float64\n",
      " 19  V19     85309 non-null  float64\n",
      " 20  V20     85309 non-null  float64\n",
      " 21  V21     85309 non-null  float64\n",
      " 22  V22     85309 non-null  float64\n",
      " 23  V23     85309 non-null  float64\n",
      " 24  V24     85309 non-null  float64\n",
      " 25  V25     85309 non-null  float64\n",
      " 26  V26     85309 non-null  float64\n",
      " 27  V27     85309 non-null  float64\n",
      " 28  V28     85309 non-null  float64\n",
      " 29  Amount  85309 non-null  float64\n",
      " 30  Class   85309 non-null  int64  \n",
      "dtypes: float64(30), int64(1)\n",
      "memory usage: 20.2 MB\n",
      "None\n"
     ]
    }
   ],
   "source": [
    "# -------------------------------\n",
    "# Assignment 6: Supervised Learning – Classification\n",
    "# -------------------------------\n",
    "\n",
    "import pandas as pd                 \n",
    "from sklearn.model_selection import train_test_split  # To split data into train/test\n",
    "from sklearn.preprocessing import LabelEncoder        # To convert categorical data to numeric\n",
    "from sklearn.linear_model import LogisticRegression   # Logistic Regression model\n",
    "from sklearn.ensemble import RandomForestClassifier   # Random Forest model\n",
    "from sklearn.metrics import accuracy_score, classification_report, confusion_matrix\n",
    "import seaborn as sns\n",
    "import matplotlib.pyplot as plt\n",
    "\n",
    "data = pd.read_csv(\"creditcard_cleaned.csv\")  \n",
    "print(data.head())\n",
    "print(data.info())"
   ]
  },
  {
   "cell_type": "code",
   "execution_count": 3,
   "id": "791fd010",
   "metadata": {},
   "outputs": [
    {
     "name": "stderr",
     "output_type": "stream",
     "text": [
      "c:\\Users\\Maan\\AppData\\Local\\Programs\\Python\\Python314\\Lib\\site-packages\\sklearn\\linear_model\\_logistic.py:473: ConvergenceWarning: lbfgs failed to converge after 1000 iteration(s) (status=1):\n",
      "STOP: TOTAL NO. OF ITERATIONS REACHED LIMIT\n",
      "\n",
      "Increase the number of iterations to improve the convergence (max_iter=1000).\n",
      "You might also want to scale the data as shown in:\n",
      "    https://scikit-learn.org/stable/modules/preprocessing.html\n",
      "Please also refer to the documentation for alternative solver options:\n",
      "    https://scikit-learn.org/stable/modules/linear_model.html#logistic-regression\n",
      "  n_iter_i = _check_optimize_result(\n"
     ]
    }
   ],
   "source": [
    "# Fill numeric columns with median\n",
    "for col in data.select_dtypes(include=['float64','int64']).columns:\n",
    "    data[col].fillna(data[col].median(), inplace=True)\n",
    "\n",
    "# Fill categorical columns with mode\n",
    "for col in data.select_dtypes(include=['object']).columns:\n",
    "    data[col].fillna(data[col].mode()[0], inplace=True)\n",
    "\n",
    "label_encoders = {}\n",
    "for col in data.select_dtypes(include=['object']).columns:\n",
    "    le = LabelEncoder()\n",
    "    data[col] = le.fit_transform(data[col])\n",
    "    label_encoders[col] = le\n",
    "\n",
    "# Features (all columns except 'Class')\n",
    "X = data.drop('Class', axis=1)\n",
    "\n",
    "# Target column\n",
    "y = data['Class']\n",
    "\n",
    "X_train, X_test, y_train, y_test = train_test_split(\n",
    "    X, y, test_size=0.2, random_state=42\n",
    ")\n",
    "\n",
    "log_reg = LogisticRegression(max_iter=1000)\n",
    "log_reg.fit(X_train, y_train)\n",
    "y_pred_log = log_reg.predict(X_test)"
   ]
  },
  {
   "cell_type": "code",
   "execution_count": 4,
   "id": "01063a8b",
   "metadata": {},
   "outputs": [
    {
     "name": "stdout",
     "output_type": "stream",
     "text": [
      "Logistic Regression Accuracy: 0.9992\n",
      "Random Forest Accuracy: 0.9993\n",
      "\n",
      "Logistic Regression Classification Report:\n",
      "              precision    recall  f1-score   support\n",
      "\n",
      "           0       1.00      1.00      1.00     17034\n",
      "           1       0.89      0.57      0.70        28\n",
      "\n",
      "    accuracy                           1.00     17062\n",
      "   macro avg       0.94      0.79      0.85     17062\n",
      "weighted avg       1.00      1.00      1.00     17062\n",
      "\n",
      "\n",
      "Random Forest Classification Report:\n",
      "              precision    recall  f1-score   support\n",
      "\n",
      "           0       1.00      1.00      1.00     17034\n",
      "           1       0.86      0.68      0.76        28\n",
      "\n",
      "    accuracy                           1.00     17062\n",
      "   macro avg       0.93      0.84      0.88     17062\n",
      "weighted avg       1.00      1.00      1.00     17062\n",
      "\n"
     ]
    }
   ],
   "source": [
    "rf_clf = RandomForestClassifier(n_estimators=100, random_state=42)\n",
    "rf_clf.fit(X_train, y_train)\n",
    "y_pred_rf = rf_clf.predict(X_test)\n",
    "\n",
    "# Accuracy\n",
    "acc_log = accuracy_score(y_test, y_pred_log)\n",
    "acc_rf = accuracy_score(y_test, y_pred_rf)\n",
    "\n",
    "print(f\"Logistic Regression Accuracy: {acc_log:.4f}\")\n",
    "print(f\"Random Forest Accuracy: {acc_rf:.4f}\")\n",
    "\n",
    "# Detailed classification report\n",
    "print(\"\\nLogistic Regression Classification Report:\")\n",
    "print(classification_report(y_test, y_pred_log))\n",
    "\n",
    "print(\"\\nRandom Forest Classification Report:\")\n",
    "print(classification_report(y_test, y_pred_rf))"
   ]
  },
  {
   "cell_type": "code",
   "execution_count": 15,
   "id": "e795062d",
   "metadata": {},
   "outputs": [
    {
     "data": {
      "image/png": "[encoded data removed]",
      "text/plain": [
       "<Figure size 640x480 with 2 Axes>"
      ]
     },
     "metadata": {},
     "output_type": "display_data"
    }
   ],
   "source": [
    "cm = confusion_matrix(y_test, y_pred_rf)\n",
    "sns.heatmap(cm, annot=True, fmt=\"d\", cmap=\"Blues\")\n",
    "plt.title(\"Random Forest Confusion Matrix\")\n",
    "plt.xlabel(\"Predicted\")\n",
    "plt.ylabel(\"Actual\")\n",
    "plt.show()"
   ]
  }
 ],
 "metadata": {
  "kernelspec": {
   "display_name": "Python 3",
   "language": "python",
   "name": "python3"
  },
  "language_info": {
   "codemirror_mode": {
    "name": "ipython",
    "version": 3
   },
   "file_extension": ".py",
   "mimetype": "text/x-python",
   "name": "python",
   "nbconvert_exporter": "python",
   "pygments_lexer": "ipython3",
   "version": "3.14.0"
  }
 },
 "nbformat": 4,
 "nbformat_minor": 5
}
