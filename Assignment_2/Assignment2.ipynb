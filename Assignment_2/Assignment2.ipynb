{
 "cells": [
  {
   "cell_type": "code",
   "execution_count": null,
   "id": "6bc78798",
   "metadata": {},
   "outputs": [
    {
     "name": "stdout",
     "output_type": "stream",
     "text": [
      "Before Cleaning:\n",
      "       Time        V1        V2        V3        V4        V5        V6  \\\n",
      "0  127294.0 -2.537331  1.890864 -0.840555 -1.102759 -2.105725  0.367811   \n",
      "1  117632.0 -0.250839  1.104108  0.206089  0.417324  1.204079 -0.350694   \n",
      "2  148330.0  0.568980 -2.520416 -1.114138  1.670652 -1.128945  0.398822   \n",
      "3   67778.0  1.328892  0.226908 -0.308968  0.381772  0.238490 -0.282946   \n",
      "4    6308.0  1.124863 -0.165691  1.337053  1.030033 -0.891116  0.202926   \n",
      "5  156414.0  2.134732 -1.287772 -1.918415 -1.897538  1.299202  3.668074   \n",
      "6   73142.0 -0.585296  0.698529  1.502551  1.282343  0.068731  0.160888   \n",
      "7  146195.0  1.959780 -0.467911 -0.372919  0.316321 -0.567166 -0.117085   \n",
      "8  171295.0 -0.530957  1.269002 -0.170741 -0.337548 -0.077253 -0.198847   \n",
      "9   34270.0 -1.227159 -0.312631  2.661616 -0.365771 -0.386091 -0.470602   \n",
      "\n",
      "         V7        V8        V9  ...       V21       V22       V23       V24  \\\n",
      "0 -2.737844 -3.543314 -0.483147  ...  4.328165 -2.167329  1.022567 -0.241143   \n",
      "1  1.369769 -0.133535 -0.957100  ...  0.133048  0.499501 -0.392572 -0.393364   \n",
      "2  0.190403  0.161493  0.840595  ...  0.318037 -0.760732 -0.181332  0.595866   \n",
      "3  0.029460 -0.079962  0.227173  ... -0.379270 -1.148959 -0.047403 -1.074464   \n",
      "4 -0.825094  0.163280  2.301808  ... -0.216512 -0.195607  0.072785  0.045625   \n",
      "5 -1.619156  0.951631 -0.031439  ...  0.326180  0.899877  0.167614  0.741911   \n",
      "6  0.344504  0.353060 -0.286442  ...  0.027661  0.261241 -0.061666  0.196602   \n",
      "7 -0.664941  0.050200  0.901031  ...  0.236870  0.897524  0.067415 -0.252775   \n",
      "8  0.390778  0.256168  0.083211  ... -0.181072 -0.652712  0.218420  0.562865   \n",
      "9 -0.233806  0.322844 -0.052014  ...  0.461850  0.938812  0.081592  0.557831   \n",
      "\n",
      "        V25       V26       V27       V28  Amount  Class  \n",
      "0 -1.094885 -0.475427 -0.177157 -0.082691   37.40      0  \n",
      "1  0.233354 -0.490717  0.143897  0.136810    9.27      0  \n",
      "2 -0.760920 -1.048927 -0.096970  0.088686  700.00      0  \n",
      "3  0.375683  0.182045 -0.031732  0.017501   14.99      0  \n",
      "4  0.135192  0.308617  0.001142  0.017673   17.25      0  \n",
      "5 -0.113506 -0.068069  0.028809 -0.052931   19.95      0  \n",
      "6 -0.198311 -0.247934  0.404905  0.195958   21.76      0  \n",
      "7 -0.191512  0.610895 -0.024082 -0.059795   16.14      0  \n",
      "8 -0.730345 -0.202975 -0.440354 -0.043989   69.80      0  \n",
      "9 -0.193412  0.397603  0.026481  0.124685   86.16      0  \n",
      "\n",
      "[10 rows x 31 columns]\n"
     ]
    }
   ],
   "source": [
    "# -------------------------------\n",
    "# Assignment 2: Data Collection & Cleaning\n",
    "# -------------------------------\n",
    "\n",
    "import pandas as pd\n",
    "import numpy as np\n",
    "\n",
    "# Load your dataset\n",
    "df = pd.read_csv('creditcard.csv') \n",
    "\n",
    "# Show first 10 rows\n",
    "print(\"Before Cleaning:\")\n",
    "print(df.head(10))"
   ]
  },
  {
   "cell_type": "code",
   "execution_count": 2,
   "id": "c7016a8f",
   "metadata": {},
   "outputs": [
    {
     "name": "stdout",
     "output_type": "stream",
     "text": [
      "<class 'pandas.core.frame.DataFrame'>\n",
      "RangeIndex: 85443 entries, 0 to 85442\n",
      "Data columns (total 31 columns):\n",
      " #   Column  Non-Null Count  Dtype  \n",
      "---  ------  --------------  -----  \n",
      " 0   Time    85443 non-null  float64\n",
      " 1   V1      85443 non-null  float64\n",
      " 2   V2      85443 non-null  float64\n",
      " 3   V3      85443 non-null  float64\n",
      " 4   V4      85443 non-null  float64\n",
      " 5   V5      85443 non-null  float64\n",
      " 6   V6      85443 non-null  float64\n",
      " 7   V7      85443 non-null  float64\n",
      " 8   V8      85443 non-null  float64\n",
      " 9   V9      85443 non-null  float64\n",
      " 10  V10     85443 non-null  float64\n",
      " 11  V11     85443 non-null  float64\n",
      " 12  V12     85443 non-null  float64\n",
      " 13  V13     85443 non-null  float64\n",
      " 14  V14     85443 non-null  float64\n",
      " 15  V15     85443 non-null  float64\n",
      " 16  V16     85443 non-null  float64\n",
      " 17  V17     85443 non-null  float64\n",
      " 18  V18     85443 non-null  float64\n",
      " 19  V19     85443 non-null  float64\n",
      " 20  V20     85443 non-null  float64\n",
      " 21  V21     85443 non-null  float64\n",
      " 22  V22     85443 non-null  float64\n",
      " 23  V23     85443 non-null  float64\n",
      " 24  V24     85443 non-null  float64\n",
      " 25  V25     85443 non-null  float64\n",
      " 26  V26     85443 non-null  float64\n",
      " 27  V27     85443 non-null  float64\n",
      " 28  V28     85443 non-null  float64\n",
      " 29  Amount  85443 non-null  float64\n",
      " 30  Class   85443 non-null  int64  \n",
      "dtypes: float64(30), int64(1)\n",
      "memory usage: 20.2 MB\n",
      "Missing values per column:\n",
      " Time      0\n",
      "V1        0\n",
      "V2        0\n",
      "V3        0\n",
      "V4        0\n",
      "V5        0\n",
      "V6        0\n",
      "V7        0\n",
      "V8        0\n",
      "V9        0\n",
      "V10       0\n",
      "V11       0\n",
      "V12       0\n",
      "V13       0\n",
      "V14       0\n",
      "V15       0\n",
      "V16       0\n",
      "V17       0\n",
      "V18       0\n",
      "V19       0\n",
      "V20       0\n",
      "V21       0\n",
      "V22       0\n",
      "V23       0\n",
      "V24       0\n",
      "V25       0\n",
      "V26       0\n",
      "V27       0\n",
      "V28       0\n",
      "Amount    0\n",
      "Class     0\n",
      "dtype: int64\n"
     ]
    }
   ],
   "source": [
    "# Info about columns and types\n",
    "df.info()\n",
    "\n",
    "# Summary statistics\n",
    "df.describe()\n",
    "\n",
    "# Check missing values\n",
    "print(\"Missing values per column:\\n\", df.isnull().sum())"
   ]
  },
  {
   "cell_type": "code",
   "execution_count": 3,
   "id": "0b943601",
   "metadata": {},
   "outputs": [
    {
     "name": "stdout",
     "output_type": "stream",
     "text": [
      "Duplicate rows: 134\n"
     ]
    }
   ],
   "source": [
    "# Count duplicate rows\n",
    "duplicate_count = df.duplicated().sum()\n",
    "print(f\"Duplicate rows: {duplicate_count}\")\n",
    "\n",
    "# Remove duplicates if any\n",
    "df = df.drop_duplicates()"
   ]
  },
  {
   "cell_type": "code",
   "execution_count": 4,
   "id": "eee1f9bd",
   "metadata": {},
   "outputs": [
    {
     "name": "stdout",
     "output_type": "stream",
     "text": [
      "count    85309.000000\n",
      "mean        88.280126\n",
      "std        243.112979\n",
      "min          0.000000\n",
      "25%          5.500000\n",
      "50%         21.990000\n",
      "75%         76.850000\n",
      "max      12910.930000\n",
      "Name: Amount, dtype: float64\n"
     ]
    }
   ],
   "source": [
    "# Example: check extreme values in 'Amount'\n",
    "print(df['Amount'].describe())\n",
    "\n",
    "# Optionally, you can normalize/scale Amount using log transform\n",
    "df['Amount'] = np.log1p(df['Amount'])"
   ]
  },
  {
   "cell_type": "code",
   "execution_count": 5,
   "id": "ecf091b9",
   "metadata": {},
   "outputs": [
    {
     "name": "stdout",
     "output_type": "stream",
     "text": [
      "\n",
      "Before Cleaning: 85443 rows, 31 columns\n",
      "After Cleaning: 85309 rows, 31 columns\n",
      "Duplicates removed: 134\n",
      "Missing values handled\n",
      "\n"
     ]
    }
   ],
   "source": [
    "before_rows, before_cols = pd.read_csv('creditcard.csv').shape\n",
    "after_rows, after_cols = df.shape\n",
    "\n",
    "report = f\"\"\"\n",
    "Before Cleaning: {before_rows} rows, {before_cols} columns\n",
    "After Cleaning: {after_rows} rows, {after_cols} columns\n",
    "Duplicates removed: {before_rows - after_rows}\n",
    "Missing values handled\n",
    "\"\"\"\n",
    "\n",
    "print(report)"
   ]
  },
  {
   "cell_type": "code",
   "execution_count": 6,
   "id": "df9c164a",
   "metadata": {},
   "outputs": [],
   "source": [
    "df.to_csv('creditcard_cleaned.csv', index=False)"
   ]
  }
 ],
 "metadata": {
  "kernelspec": {
   "display_name": "Python 3",
   "language": "python",
   "name": "python3"
  },
  "language_info": {
   "codemirror_mode": {
    "name": "ipython",
    "version": 3
   },
   "file_extension": ".py",
   "mimetype": "text/x-python",
   "name": "python",
   "nbconvert_exporter": "python",
   "pygments_lexer": "ipython3",
   "version": "3.14.0"
  }
 },
 "nbformat": 4,
 "nbformat_minor": 5
}
